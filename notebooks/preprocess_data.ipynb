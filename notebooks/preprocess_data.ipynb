{
 "cells": [
  {
   "cell_type": "markdown",
   "metadata": {},
   "source": [
    "STEP 0: Imports"
   ]
  },
  {
   "cell_type": "code",
   "execution_count": 1,
   "metadata": {},
   "outputs": [],
   "source": [
    "# Adjusting current working directory to parent directory\n",
    "from pathlib import Path\n",
    "from os import chdir\n",
    "try:\n",
    "    current_directory\n",
    "except: # First  run - initialize current_directory\n",
    "    current_directory = Path.cwd()\n",
    "finally:\n",
    "    parent_directory = current_directory.parent\n",
    "    chdir(parent_directory)\n",
    "\n",
    "\n",
    "# External imports\n",
    "from sentence_transformers import SentenceTransformer\n",
    "\n",
    "# Internal imports\n",
    "from src.data.csv_tools import csv_to_dataframe\n",
    "from src.data.pickle_tools import save_to_pickle\n",
    "from src.utils.preprocessing_tools import *"
   ]
  },
  {
   "cell_type": "markdown",
   "metadata": {},
   "source": [
    "STEP 1: Merge and aggregate the raw data:\n",
    "    for each accommodation get a list of all the relevant reviews to it\n",
    "    create a single dataset for each set of the train and val - first merge users to match by userid (they are unique), then merge to reviews by review id"
   ]
  },
  {
   "cell_type": "code",
   "execution_count": null,
   "metadata": {},
   "outputs": [],
   "source": [
    "# aggregate reviews for each accommodation as a list\n",
    "for set_name in [\"train\", \"val\", \"test\"]:\n",
    "    accommodation_reviews = create_accommodation_reviews(set_name)\n",
    "    print(\"Example: first accommodation reviews\")\n",
    "    first_accommodation_id = list(accommodation_reviews.keys())[0]\n",
    "    print(first_accommodation_id, accommodation_reviews[first_accommodation_id])"
   ]
  },
  {
   "cell_type": "code",
   "execution_count": null,
   "metadata": {},
   "outputs": [],
   "source": [
    "# Concatenate train and val sets\n",
    "train_processed_set = create_concatenated_set(\"train\")\n",
    "val_processed_set = create_concatenated_set(\"val\")\n",
    "\n",
    "print(\"Sizes: train, val\")\n",
    "print(len(train_processed_set), len(val_processed_set))"
   ]
  },
  {
   "cell_type": "code",
   "execution_count": null,
   "metadata": {},
   "outputs": [],
   "source": [
    "# Fill na with empty strings \n",
    "train_processed_set[[\"review_title\", \"review_positive\", \"review_negative\"]] = train_processed_set[[\"review_title\", \"review_positive\", \"review_negative\"]].fillna(\"\")\n",
    "val_processed_set[[\"review_title\", \"review_positive\", \"review_negative\"]] = val_processed_set[[\"review_title\", \"review_positive\", \"review_negative\"]].fillna(\"\")\n",
    "# For test, get reviews data\n",
    "test_processed_set = csv_to_dataframe(\"test\", \"reviews\")\n",
    "test_processed_set[[\"review_title\", \"review_positive\", \"review_negative\"]] = test_processed_set[[\"review_title\", \"review_positive\", \"review_negative\"]].fillna(\"\")\n",
    "# Validate that there are no missing values\n",
    "print(\"Missing values in train:\")\n",
    "print(train_processed_set[[\"review_title\", \"review_positive\", \"review_negative\"]].isna().sum())\n",
    "print(\"Missing values in val:\")\n",
    "print(val_processed_set[[\"review_title\", \"review_positive\", \"review_negative\"]].isna().sum())\n",
    "print(\"Missing values in test:\")\n",
    "print(test_processed_set[[\"review_title\", \"review_positive\", \"review_negative\"]].isna().sum())"
   ]
  },
  {
   "cell_type": "code",
   "execution_count": 6,
   "metadata": {},
   "outputs": [],
   "source": [
    "# Initialize the model\n",
    "model = SentenceTransformer(\"all-MiniLM-L6-v2\")"
   ]
  },
  {
   "cell_type": "markdown",
   "metadata": {},
   "source": [
    "If you want to check if it's working on a small dataset run the below cell, otherwise you can skip it"
   ]
  },
  {
   "cell_type": "code",
   "execution_count": null,
   "metadata": {},
   "outputs": [],
   "source": [
    "# Sanity check\n",
    "sanity_dataset = val_processed_set.head()\n",
    "title_vectors = model.encode(sanity_dataset[\"review_title\"].values)\n",
    "positive_vectors = model.encode(sanity_dataset[\"review_positive\"].values)\n",
    "negative_vectors = model.encode(sanity_dataset[\"review_negative\"].values)\n",
    "print(title_vectors.shape)\n",
    "print(positive_vectors.shape)\n",
    "print(negative_vectors.shape)"
   ]
  },
  {
   "cell_type": "code",
   "execution_count": 8,
   "metadata": {},
   "outputs": [],
   "source": [
    "# Get pairs for each set\n",
    "set_name_data_pair = ((\"train\", train_processed_set), (\"val\", val_processed_set), (\"test\", test_processed_set))"
   ]
  },
  {
   "cell_type": "code",
   "execution_count": null,
   "metadata": {},
   "outputs": [],
   "source": [
    "for set_name, set_data in set_name_data_pair:\n",
    "    review_ids = set_data[\"review_id\"].values\n",
    "    first_review_id = review_ids[0]\n",
    "\n",
    "    title_vectors = model.encode(set_data[\"review_title\"].values, show_progress_bar=True)\n",
    "    title_vectors_dict = dict(zip(review_ids, title_vectors))\n",
    "    print(f\"Finished title. Check for {set_name}: review {first_review_id}, vector:{title_vectors_dict[first_review_id]}\")\n",
    "    save_to_pickle(title_vectors_dict, f\"{set_name}_title_vectors_dict\")\n",
    "    \n",
    "    positive_vectors = model.encode(set_data[\"review_positive\"].values, show_progress_bar=True)\n",
    "    positive_review_vectors_dict = dict(zip(review_ids, positive_vectors))\n",
    "    print(f\"Finished positive. Check for {set_name}: review {first_review_id}, vector:{positive_review_vectors_dict[first_review_id]}\")\n",
    "    save_to_pickle(positive_review_vectors_dict, f\"{set_name}_positive_vectors_dict\")\n",
    "    \n",
    "    negative_vectors = model.encode(set_data[\"review_negative\"].values, show_progress_bar=True)\n",
    "    negative_review_vectors_dict = dict(zip(review_ids, negative_vectors))\n",
    "    print(f\"Finished negative. Check for {set_name}: review {first_review_id}, vector:{negative_review_vectors_dict[first_review_id]}\")\n",
    "    save_to_pickle(negative_review_vectors_dict, f\"{set_name}_negative_vectors_dict\")"
   ]
  }
 ],
 "metadata": {
  "kernelspec": {
   "display_name": "school_venv",
   "language": "python",
   "name": "python3"
  },
  "language_info": {
   "codemirror_mode": {
    "name": "ipython",
    "version": 3
   },
   "file_extension": ".py",
   "mimetype": "text/x-python",
   "name": "python",
   "nbconvert_exporter": "python",
   "pygments_lexer": "ipython3",
   "version": "3.11.8"
  }
 },
 "nbformat": 4,
 "nbformat_minor": 2
}
