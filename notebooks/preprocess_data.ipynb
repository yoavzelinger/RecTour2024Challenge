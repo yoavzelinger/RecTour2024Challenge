{
 "cells": [
  {
   "cell_type": "code",
   "execution_count": 1,
   "metadata": {},
   "outputs": [],
   "source": [
    "# Adjust working directory to allow importing modules from parent directory\n",
    "from pathlib import Path\n",
    "import os\n",
    "\n",
    "# Get current working directory only if it has not been defined (first run)\n",
    "try:\n",
    "    current_directory\n",
    "except:\n",
    "    current_directory = Path.cwd()\n",
    "\n",
    "# Change the working directory to the parent\n",
    "parent_directory = current_directory.parent\n",
    "os.chdir(parent_directory)"
   ]
  },
  {
   "cell_type": "code",
   "execution_count": 2,
   "metadata": {},
   "outputs": [],
   "source": [
    "# Import\n",
    "from src.utils.preprocessing_tools import *"
   ]
  },
  {
   "cell_type": "code",
   "execution_count": 3,
   "metadata": {},
   "outputs": [
    {
     "name": "stdout",
     "output_type": "stream",
     "text": [
      "train concatenated\n",
      "val concatenated\n"
     ]
    }
   ],
   "source": [
    "concatenate_train_val()"
   ]
  }
 ],
 "metadata": {
  "kernelspec": {
   "display_name": "school_venv",
   "language": "python",
   "name": "python3"
  },
  "language_info": {
   "codemirror_mode": {
    "name": "ipython",
    "version": 3
   },
   "file_extension": ".py",
   "mimetype": "text/x-python",
   "name": "python",
   "nbconvert_exporter": "python",
   "pygments_lexer": "ipython3",
   "version": "3.11.8"
  }
 },
 "nbformat": 4,
 "nbformat_minor": 2
}
